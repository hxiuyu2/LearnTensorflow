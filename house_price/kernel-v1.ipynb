{
  "cells": [
    {
      "metadata": {
        "_cell_guid": "79c7e3d0-c299-4dcb-8224-4455121ee9b0",
        "_uuid": "d629ff2d2480ee46fbb7e2d37f6b5fab8052498a",
        "trusted": true
      },
      "cell_type": "code",
      "source": "import pandas as pd\nfrom sklearn.preprocessing import Imputer\nimport lightgbm as lgb\nfrom sklearn.model_selection import KFold\nfrom sklearn.metrics import mean_squared_error\nfrom sklearn.decomposition import PCA\nimport numpy as np\nfrom sklearn.kernel_ridge import KernelRidge\nfrom sklearn.preprocessing import RobustScaler\nfrom sklearn.linear_model import ElasticNet\nfrom sklearn.linear_model import Lasso\nfrom sklearn.pipeline import make_pipeline",
      "execution_count": null,
      "outputs": []
    },
    {
      "metadata": {
        "trusted": true,
        "_uuid": "c7c2788f663dca971254d535fe349c3a5a83f881"
      },
      "cell_type": "code",
      "source": "train = pd.read_csv('../input/train.csv')\ny = train['SalePrice']\nX = train[train['TotalBsmtSF'] < 4000]\nX = X[X['BsmtFinSF1'] < 4000]\nX.drop(X[(X['GrLivArea']>4000) & (X['SalePrice']<300000)].index)\nX = train.drop(['SalePrice','Id'], axis=1)",
      "execution_count": null,
      "outputs": []
    },
    {
      "metadata": {
        "trusted": true,
        "_uuid": "8f7c87f3072277bdb9d1737c7e055d85f997d519"
      },
      "cell_type": "code",
      "source": "LABEL_MAP = {'ExterQual': {'Ex':5,'Gd':4,'TA':3,'Fa':2,'Po':1},\n             'ExterCond': {'Ex':5,'Gd':4,'TA':3,'Fa':2,'Po':1},\n             'BsmtQual': {'Ex':5,'Gd':4,'TA':3,'Fa':2,'Po':1,'NA':-1},\n             'BsmtCond': {'Ex':5,'Gd':4,'TA':3,'Fa':2,'Po':1,'NA':-1},\n             'BsmtExposure': {'Gd':3,'Av':2,'Mn':1,'No':0, 'NA':-1},\n             'BsmtFinType1': {'GLQ':5,'ALQ':4,'BLQ':3,'Rec':2,'LwQ':1,'Unf':0,'NA':-1},\n             'BsmtFinType2': {'GLQ':5,'ALQ':4,'BLQ':3,'Rec':2,'LwQ':1,'Unf':0,'NA':-1},\n             'HeatingQC':{'Ex':5,'Gd':4,'TA':3,'Fa':2,'Po':1},\n             'CentralAir': {'N':0,'Y':1},\n             'KitchenQual':{'Ex':5,'Gd':4,'TA':3,'Fa':2,'Po':1},\n             'GarageQual':{'Ex':5,'Gd':4,'TA':3,'Fa':2,'Po':1,'NA':-1},\n             'GarageCond': {'Ex':5,'Gd':4,'TA':3,'Fa':2,'Po':1,'NA':-1},\n             'PavedDrive':{'Y':1,'P':0,'N':-1},\n             'Functional': {'Typ':7,'Min1':6,'Min2':5,'Mod':4,'Maj1':3,'Maj2':2,'Sev':1,'Sal':0}\n}\n\nCATE_COLS = ['MSZoning', 'Street', 'LotShape', 'LandContour', 'Utilities', 'LotConfig', 'MasVnrType',\n             'LandSlope', 'Neighborhood', 'RoofStyle', 'RoofMatl', 'Exterior1st', 'Exterior2nd',\n             'Heating', 'Electrical', 'GarageType', 'GarageFinish', 'Condition2',\n             'SaleCondition', 'SaleType','BldgType','HouseStyle','Foundation','Condition1']",
      "execution_count": null,
      "outputs": []
    },
    {
      "metadata": {
        "trusted": true,
        "_uuid": "25629c257d945927843d2faf0df2c86d981c9f53"
      },
      "cell_type": "code",
      "source": "def preprocess(data):\n    proc = pd.DataFrame(data)\n    proc.drop(['MiscFeature', 'Fence', 'PoolQC', 'Alley', 'FireplaceQu'], axis=1, inplace=True)    \n        \n    for columns in ['LotFrontage', 'MasVnrArea','GarageYrBlt']:\n        tryimputed = proc[columns]\n        tryimputed = tryimputed.values.reshape(-1, 1)\n        imp = Imputer(missing_values='NaN', strategy='mean', axis=0)\n        imp.fit(tryimputed)\n        proc[columns] = imp.transform(tryimputed).astype(int)\n        \n    for column in proc.columns:\n        proc[column].fillna(proc[column].mode()[0], inplace=True)    \n        \n    for col in CATE_COLS:\n        encoding = proc.groupby(col).size()\n        encoding = encoding/len(proc)\n        proc[col] = proc[col].map(encoding)  \n        \n    for key, value in LABEL_MAP.items():\n        proc[key] = proc[key].map(value)\n    return proc",
      "execution_count": null,
      "outputs": []
    },
    {
      "metadata": {
        "trusted": true,
        "_uuid": "9ed7e48c34a0e621e6a3ed3d583699f874f22084"
      },
      "cell_type": "code",
      "source": "rf = preprocess(X)\nfrom sklearn.ensemble import RandomForestRegressor\nclf = RandomForestRegressor(n_estimators=1000, random_state=111,min_samples_leaf=2,max_depth=7)\nmodel = clf.fit(rf, y)\nvalues = sorted(zip(rf.columns, model.feature_importances_), key=lambda x: x[1] * -1)\nvalues",
      "execution_count": null,
      "outputs": []
    },
    {
      "metadata": {
        "trusted": true,
        "_uuid": "b08e9d5d4142ffa0b6222b907122c581e0ad69fe"
      },
      "cell_type": "code",
      "source": "important_index = ['OverallQual','GrLivArea', 'TotalBsmtSF','2ndFlrSF', 'BsmtFinSF1', '1stFlrSF', \n                   'GarageCars', 'GarageArea', 'LotArea', 'YearBuilt']\nmedium_index = ['KitchenQual', 'BsmtQual', 'GarageFinish','BsmtUnfSF','OpenPorchSF', \n                'WoodDeckSF',  'GarageYrBlt', 'OverallCond', 'Fireplaces', 'ExterQual','CentralAir',\n                'TotRmsAbvGrd', 'YearRemodAdd', 'Neighborhood', 'LotFrontage','Fireplaces',\n                'FullBath', 'MasVnrArea','BsmtExposure']",
      "execution_count": null,
      "outputs": []
    },
    {
      "metadata": {
        "trusted": true,
        "_uuid": "39e2961652e9ecad1fc85484c001991afb21f035"
      },
      "cell_type": "code",
      "source": "test = pd.read_csv('../input/test.csv')\ntest = preprocess(test)",
      "execution_count": null,
      "outputs": []
    },
    {
      "metadata": {
        "trusted": true,
        "_uuid": "61956734e5c29279ed16e4200d4f9006eca90764"
      },
      "cell_type": "code",
      "source": "param = {'num_leaves': 13,\n         'min_data_in_leaf': 127,\n         'objective':'regression',\n         'max_depth': 7,\n         'learning_rate': 0.005,\n         \"boosting\": \"gbdt\",\n         \"feature_fraction\": 0.75,\n         \"bagging_freq\": 1,\n         \"bagging_fraction\": 0.7 ,\n         \"bagging_seed\": 17,\n         \"metric\": 'rmse',\n         \"random_state\": 133,\n         \"lambda_l1\": 0.27,\n         \"verbosity\": -1}",
      "execution_count": null,
      "outputs": []
    },
    {
      "metadata": {
        "trusted": true,
        "_uuid": "ed9c5d1b853a8b705db68962ddcde99cb4dcdc78"
      },
      "cell_type": "code",
      "source": "def kfold_train(X_data,y_data, X_test):\n    folds = KFold(n_splits=5, shuffle=True, random_state=15)\n    oof = np.zeros(len(X_data))\n    predictions = np.zeros(len(X_test))\n    for fold_, (trn_idx, val_idx) in enumerate(folds.split(X_data.values, y_data.values)):\n        print(\"fold n°{}\".format(fold_))\n        X_train = preprocess(X_data.iloc[trn_idx])\n        X_val = preprocess(X_data.iloc[val_idx])\n        pca = PCA(n_components=25)\n        X_train = pd.DataFrame(pca.fit_transform(X_train))\n        X_val = pd.DataFrame(pca.transform(X_val))\n        trn_data = lgb.Dataset(X_train, label=y_data.iloc[trn_idx])\n        val_data = lgb.Dataset(X_val,label=y.iloc[val_idx])\n\n        num_round = 10000\n        clf = lgb.train(param,trn_data,num_round,valid_sets=[trn_data, val_data],verbose_eval=100,early_stopping_rounds=200)\n\n        pca_test = X_test\n        pca_test = pca_test.drop('Id',axis=1)\n        pca_test = pd.DataFrame(pca.transform(pca_test))\n        oof[val_idx] = clf.predict(X_val, num_iteration=clf.best_iteration)\n        predictions += clf.predict(pca_test, num_iteration=clf.best_iteration) / folds.n_splits\n\n    print(\"CV score: {:<8.5f}\".format(mean_squared_error(oof, y_data) ** 0.5))\n    return predictions",
      "execution_count": null,
      "outputs": []
    },
    {
      "metadata": {
        "trusted": true,
        "_uuid": "7f10600ba450fbd21686715eed980a051917ce67"
      },
      "cell_type": "code",
      "source": "test.shape",
      "execution_count": null,
      "outputs": []
    },
    {
      "metadata": {
        "trusted": true,
        "_uuid": "43fe4170800be6bdbc0ed3d8da7d404d8dae8e61"
      },
      "cell_type": "code",
      "source": "gdbt_pred = kfold_train(X, y, test)",
      "execution_count": null,
      "outputs": []
    },
    {
      "metadata": {
        "trusted": true,
        "_uuid": "ec4a985c550bc798621fc69691c257b829d5f74c"
      },
      "cell_type": "code",
      "source": "KRR = make_pipeline(RobustScaler(), KernelRidge(alpha=0.005, kernel='polynomial', degree=2, coef0=2.5))\nKRR.fit(rf[important_index], y)\nkrr_pred = KRR.predict(test[important_index])",
      "execution_count": null,
      "outputs": []
    },
    {
      "metadata": {
        "trusted": true,
        "_uuid": "b72f75adef903b5b9b88830b7b1fc7eb175ed5ba"
      },
      "cell_type": "code",
      "source": "gdbt_pred[:13]",
      "execution_count": null,
      "outputs": []
    },
    {
      "metadata": {
        "trusted": true,
        "_uuid": "afeb98db6b62786979715514ddbc753813eeac0f"
      },
      "cell_type": "code",
      "source": "krr_pred[:13]",
      "execution_count": null,
      "outputs": []
    },
    {
      "metadata": {
        "trusted": true,
        "_uuid": "a681014a12cc7a8537130263eb3e86ac7b98d206"
      },
      "cell_type": "code",
      "source": "lasso = make_pipeline(RobustScaler(), Lasso(alpha =0.0001, random_state=1))\nlasso_ind = medium_index+important_index\nlasso.fit(rf[lasso_ind], y)\nla_test = test[lasso_ind]\nlasso_pred = lasso.predict(la_test)",
      "execution_count": null,
      "outputs": []
    },
    {
      "metadata": {
        "trusted": true,
        "_uuid": "3782e381d4492d28c7288a7bc3d4e2dd388047bf"
      },
      "cell_type": "code",
      "source": "lasso_pred[:13]",
      "execution_count": null,
      "outputs": []
    },
    {
      "metadata": {
        "trusted": true,
        "_uuid": "6bb6919a0b09a9fdf5eee4a0c3fe5b1924edc94f"
      },
      "cell_type": "code",
      "source": "enet = make_pipeline(RobustScaler(), ElasticNet(alpha=0.0005, l1_ratio=.9, random_state=3))\nenet.fit(rf[medium_index], y)\nenet_pred = enet.predict(test[medium_index])",
      "execution_count": null,
      "outputs": []
    },
    {
      "metadata": {
        "trusted": true,
        "_uuid": "36f199d87266992030a11abf072365364aafb7b9"
      },
      "cell_type": "code",
      "source": "enet_pred[0:13]",
      "execution_count": null,
      "outputs": []
    },
    {
      "metadata": {
        "trusted": true,
        "_uuid": "863b0adc5fb09cf4984d7b441014e600047124fb"
      },
      "cell_type": "code",
      "source": "ensemble = 0.15*lasso_pred + 0.4*gdbt_pred + 0.3*krr_pred + 0.15*enet_pred\nsub = pd.DataFrame()\nsub['Id'] = test['Id']\nsub['SalePrice'] = ensemble",
      "execution_count": null,
      "outputs": []
    },
    {
      "metadata": {
        "trusted": true,
        "_uuid": "180c454f33040dd9394b0067adc8470d4273b016"
      },
      "cell_type": "code",
      "source": "sub[:13]",
      "execution_count": null,
      "outputs": []
    },
    {
      "metadata": {
        "trusted": true,
        "_uuid": "0d3e575c69442d2398baa875e5f25c71c80ecd26",
        "_kg_hide-output": true,
        "_kg_hide-input": true
      },
      "cell_type": "code",
      "source": "sub.to_csv('submission.csv',index=False)",
      "execution_count": null,
      "outputs": []
    },
    {
      "metadata": {
        "trusted": true,
        "_uuid": "923fc8e0a15fee40d58022e04ca3aaccff5f52cd"
      },
      "cell_type": "code",
      "source": "",
      "execution_count": null,
      "outputs": []
    }
  ],
  "metadata": {
    "kernelspec": {
      "display_name": "Python 3",
      "language": "python",
      "name": "python3"
    },
    "language_info": {
      "name": "python",
      "version": "3.6.6",
      "mimetype": "text/x-python",
      "codemirror_mode": {
        "name": "ipython",
        "version": 3
      },
      "pygments_lexer": "ipython3",
      "nbconvert_exporter": "python",
      "file_extension": ".py"
    }
  },
  "nbformat": 4,
  "nbformat_minor": 1
}