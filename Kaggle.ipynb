{
 "cells": [
  {
   "cell_type": "markdown",
   "metadata": {},
   "source": [
    "# Install kaggle Package\n",
    "Please install the kaggle package. Then please get your token keys and ID from **Profile->My Account->Create New API Token-> Open it and fill the ID, Token key below**"
   ]
  },
  {
   "cell_type": "code",
   "execution_count": null,
   "metadata": {},
   "outputs": [],
   "source": [
    "import numpy as np\n",
    "import pandas as pd\n",
    "import numpy as np\n",
    "import matplotlib.pyplot as plt\n",
    "import os\n",
    "import itertools\n",
    "from IPython.core import display as ICD\n",
    "%matplotlib inline\n",
    "def convert_to_df(csv): # needs to be repaired\n",
    "    df = pd.DataFrame(data=csv)[0].str.split(',',expand=True)  \n",
    "    header = df.iloc[0]\n",
    "    df = df[1:]\n",
    "    df.columns = header\n",
    "    return df"
   ]
  },
  {
   "cell_type": "markdown",
   "metadata": {},
   "source": [
    "<span style=\"color:red\">! ! ! Please change the USER_ID and USER_SECRET below</span >"
   ]
  },
  {
   "cell_type": "code",
   "execution_count": null,
   "metadata": {},
   "outputs": [],
   "source": [
    "USER_ID = 'yilinxia' # REPLACE WITH YOUR OWN USER NAME\n",
    "USER_SECRET = \"4a2e1c8f85525d38fc77676293d6d129\" # REPLACE WITH YOUR OWN PRIVATE API TOKEN\n",
    "import os, json, nbformat, pandas as pd\n",
    "KAGGLE_CONFIG_DIR = os.path.join(os.path.expandvars('$HOME'), '.kaggle')\n",
    "os.makedirs(KAGGLE_CONFIG_DIR, exist_ok = True)\n",
    "with open(os.path.join(KAGGLE_CONFIG_DIR, 'kaggle.json'), 'w') as f:\n",
    "    json.dump({'username': USER_ID, 'key': USER_SECRET}, f)\n",
    "!chmod 600 {KAGGLE_CONFIG_DIR}/kaggle.json"
   ]
  },
  {
   "cell_type": "code",
   "execution_count": null,
   "metadata": {},
   "outputs": [],
   "source": [
    "# convert teh data set into df (just for further reference)\n",
    "# datasets_list_csv = !kaggle competitions files elo-merchant-category-recommendation\n",
    "# datasets_list_df = convert_to_df(datasets_list_csv)\n",
    "# ICD.display(datasets_list_df.head(10))"
   ]
  },
  {
   "cell_type": "markdown",
   "metadata": {},
   "source": [
    "# Competition Part\n",
    "<pre>\n",
    "* list                List available competitions\n",
    "* files               List competition files\n",
    "* download            Download competition files\n",
    "* submit              Make a new competition submission\n",
    "* submissions         Show your competition submissions\n",
    "* leaderboard         Get competition leaderboard information\n",
    "</pre>"
   ]
  },
  {
   "cell_type": "markdown",
   "metadata": {},
   "source": [
    "## List files the competition contains"
   ]
  },
  {
   "cell_type": "code",
   "execution_count": null,
   "metadata": {},
   "outputs": [],
   "source": [
    "!kaggle competitions files elo-merchant-category-recommendation"
   ]
  },
  {
   "cell_type": "markdown",
   "metadata": {},
   "source": [
    "## Download the files"
   ]
  },
  {
   "cell_type": "markdown",
   "metadata": {},
   "source": [
    "<span style=\"color:red\">! ! ! Please change the directory below</span >"
   ]
  },
  {
   "cell_type": "code",
   "execution_count": null,
   "metadata": {},
   "outputs": [],
   "source": [
    "os.chdir(\"/Users/yilinxia/working/elo\") "
   ]
  },
  {
   "cell_type": "code",
   "execution_count": null,
   "metadata": {},
   "outputs": [],
   "source": [
    "#download the data in the working/elo directory\n",
    "!kaggle competitions download -c elo-merchant-category-recommendation"
   ]
  },
  {
   "cell_type": "code",
   "execution_count": null,
   "metadata": {},
   "outputs": [],
   "source": [
    "# change the directory and unzip the document\n",
    "!unzip \\*.zip"
   ]
  },
  {
   "cell_type": "markdown",
   "metadata": {},
   "source": [
    "# Read Files"
   ]
  },
  {
   "cell_type": "code",
   "execution_count": null,
   "metadata": {},
   "outputs": [],
   "source": [
    "os.getcwd()"
   ]
  },
  {
   "cell_type": "code",
   "execution_count": null,
   "metadata": {},
   "outputs": [],
   "source": [
    "!chown -R user-id:group-id /path/to/the/directory"
   ]
  },
  {
   "cell_type": "code",
   "execution_count": null,
   "metadata": {},
   "outputs": [],
   "source": [
    "merchants=pd.read_csv(\"./elo/merchants.csv\",engine=\"python\")"
   ]
  }
 ],
 "metadata": {
  "kernelspec": {
   "display_name": "Python 3",
   "language": "python",
   "name": "python3"
  },
  "language_info": {
   "codemirror_mode": {
    "name": "ipython",
    "version": 3
   },
   "file_extension": ".py",
   "mimetype": "text/x-python",
   "name": "python",
   "nbconvert_exporter": "python",
   "pygments_lexer": "ipython3",
   "version": "3.7.1"
  }
 },
 "nbformat": 4,
 "nbformat_minor": 2
}
